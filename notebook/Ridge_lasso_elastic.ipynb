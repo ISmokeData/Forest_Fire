{
 "cells": [
  {
   "cell_type": "code",
   "execution_count": 1,
   "metadata": {},
   "outputs": [],
   "source": [
    "import numpy as np\n",
    "import pandas as pd\n",
    "import seaborn as sns\n",
    "import matplotlib.pyplot as plt\n",
    "%matplotlib inline\n",
    " \n",
    "from sklearn.model_selection import train_test_split"
   ]
  },
  {
   "cell_type": "code",
   "execution_count": 2,
   "metadata": {},
   "outputs": [
    {
     "data": {
      "text/html": [
       "<div>\n",
       "<style scoped>\n",
       "    .dataframe tbody tr th:only-of-type {\n",
       "        vertical-align: middle;\n",
       "    }\n",
       "\n",
       "    .dataframe tbody tr th {\n",
       "        vertical-align: top;\n",
       "    }\n",
       "\n",
       "    .dataframe thead th {\n",
       "        text-align: right;\n",
       "    }\n",
       "</style>\n",
       "<table border=\"1\" class=\"dataframe\">\n",
       "  <thead>\n",
       "    <tr style=\"text-align: right;\">\n",
       "      <th></th>\n",
       "      <th>day</th>\n",
       "      <th>month</th>\n",
       "      <th>year</th>\n",
       "      <th>Temperature</th>\n",
       "      <th>RH</th>\n",
       "      <th>Ws</th>\n",
       "      <th>Rain</th>\n",
       "      <th>FFMC</th>\n",
       "      <th>DMC</th>\n",
       "      <th>DC</th>\n",
       "      <th>ISI</th>\n",
       "      <th>BUI</th>\n",
       "      <th>FWI</th>\n",
       "      <th>Classes</th>\n",
       "      <th>Region</th>\n",
       "    </tr>\n",
       "  </thead>\n",
       "  <tbody>\n",
       "    <tr>\n",
       "      <th>0</th>\n",
       "      <td>1</td>\n",
       "      <td>6</td>\n",
       "      <td>2012</td>\n",
       "      <td>29</td>\n",
       "      <td>57</td>\n",
       "      <td>18</td>\n",
       "      <td>0.0</td>\n",
       "      <td>65.7</td>\n",
       "      <td>3.4</td>\n",
       "      <td>7.6</td>\n",
       "      <td>1.3</td>\n",
       "      <td>3.4</td>\n",
       "      <td>0.5</td>\n",
       "      <td>not fire</td>\n",
       "      <td>0</td>\n",
       "    </tr>\n",
       "    <tr>\n",
       "      <th>1</th>\n",
       "      <td>2</td>\n",
       "      <td>6</td>\n",
       "      <td>2012</td>\n",
       "      <td>29</td>\n",
       "      <td>61</td>\n",
       "      <td>13</td>\n",
       "      <td>1.3</td>\n",
       "      <td>64.4</td>\n",
       "      <td>4.1</td>\n",
       "      <td>7.6</td>\n",
       "      <td>1.0</td>\n",
       "      <td>3.9</td>\n",
       "      <td>0.4</td>\n",
       "      <td>not fire</td>\n",
       "      <td>0</td>\n",
       "    </tr>\n",
       "    <tr>\n",
       "      <th>2</th>\n",
       "      <td>3</td>\n",
       "      <td>6</td>\n",
       "      <td>2012</td>\n",
       "      <td>26</td>\n",
       "      <td>82</td>\n",
       "      <td>22</td>\n",
       "      <td>13.1</td>\n",
       "      <td>47.1</td>\n",
       "      <td>2.5</td>\n",
       "      <td>7.1</td>\n",
       "      <td>0.3</td>\n",
       "      <td>2.7</td>\n",
       "      <td>0.1</td>\n",
       "      <td>not fire</td>\n",
       "      <td>0</td>\n",
       "    </tr>\n",
       "    <tr>\n",
       "      <th>3</th>\n",
       "      <td>4</td>\n",
       "      <td>6</td>\n",
       "      <td>2012</td>\n",
       "      <td>25</td>\n",
       "      <td>89</td>\n",
       "      <td>13</td>\n",
       "      <td>2.5</td>\n",
       "      <td>28.6</td>\n",
       "      <td>1.3</td>\n",
       "      <td>6.9</td>\n",
       "      <td>0.0</td>\n",
       "      <td>1.7</td>\n",
       "      <td>0.0</td>\n",
       "      <td>not fire</td>\n",
       "      <td>0</td>\n",
       "    </tr>\n",
       "    <tr>\n",
       "      <th>4</th>\n",
       "      <td>5</td>\n",
       "      <td>6</td>\n",
       "      <td>2012</td>\n",
       "      <td>27</td>\n",
       "      <td>77</td>\n",
       "      <td>16</td>\n",
       "      <td>0.0</td>\n",
       "      <td>64.8</td>\n",
       "      <td>3.0</td>\n",
       "      <td>14.2</td>\n",
       "      <td>1.2</td>\n",
       "      <td>3.9</td>\n",
       "      <td>0.5</td>\n",
       "      <td>not fire</td>\n",
       "      <td>0</td>\n",
       "    </tr>\n",
       "  </tbody>\n",
       "</table>\n",
       "</div>"
      ],
      "text/plain": [
       "   day  month  year  Temperature  RH  Ws  Rain  FFMC  DMC    DC  ISI  BUI  \\\n",
       "0    1      6  2012           29  57  18   0.0  65.7  3.4   7.6  1.3  3.4   \n",
       "1    2      6  2012           29  61  13   1.3  64.4  4.1   7.6  1.0  3.9   \n",
       "2    3      6  2012           26  82  22  13.1  47.1  2.5   7.1  0.3  2.7   \n",
       "3    4      6  2012           25  89  13   2.5  28.6  1.3   6.9  0.0  1.7   \n",
       "4    5      6  2012           27  77  16   0.0  64.8  3.0  14.2  1.2  3.9   \n",
       "\n",
       "   FWI      Classes  Region  \n",
       "0  0.5  not fire          0  \n",
       "1  0.4  not fire          0  \n",
       "2  0.1  not fire          0  \n",
       "3  0.0  not fire          0  \n",
       "4  0.5  not fire          0  "
      ]
     },
     "execution_count": 2,
     "metadata": {},
     "output_type": "execute_result"
    }
   ],
   "source": [
    "df = pd.read_csv('Algerian_forest_fires_cleaned_dataset.csv')\n",
    "df.head()\n"
   ]
  },
  {
   "cell_type": "code",
   "execution_count": 3,
   "metadata": {},
   "outputs": [],
   "source": [
    "df.drop(['day', 'month', 'year'], axis=1, inplace=True)\n"
   ]
  },
  {
   "cell_type": "code",
   "execution_count": 4,
   "metadata": {},
   "outputs": [
    {
     "data": {
      "text/html": [
       "<div>\n",
       "<style scoped>\n",
       "    .dataframe tbody tr th:only-of-type {\n",
       "        vertical-align: middle;\n",
       "    }\n",
       "\n",
       "    .dataframe tbody tr th {\n",
       "        vertical-align: top;\n",
       "    }\n",
       "\n",
       "    .dataframe thead th {\n",
       "        text-align: right;\n",
       "    }\n",
       "</style>\n",
       "<table border=\"1\" class=\"dataframe\">\n",
       "  <thead>\n",
       "    <tr style=\"text-align: right;\">\n",
       "      <th></th>\n",
       "      <th>Temperature</th>\n",
       "      <th>RH</th>\n",
       "      <th>Ws</th>\n",
       "      <th>Rain</th>\n",
       "      <th>FFMC</th>\n",
       "      <th>DMC</th>\n",
       "      <th>DC</th>\n",
       "      <th>ISI</th>\n",
       "      <th>BUI</th>\n",
       "      <th>FWI</th>\n",
       "      <th>Classes</th>\n",
       "      <th>Region</th>\n",
       "    </tr>\n",
       "  </thead>\n",
       "  <tbody>\n",
       "    <tr>\n",
       "      <th>0</th>\n",
       "      <td>29</td>\n",
       "      <td>57</td>\n",
       "      <td>18</td>\n",
       "      <td>0.0</td>\n",
       "      <td>65.7</td>\n",
       "      <td>3.4</td>\n",
       "      <td>7.6</td>\n",
       "      <td>1.3</td>\n",
       "      <td>3.4</td>\n",
       "      <td>0.5</td>\n",
       "      <td>not fire</td>\n",
       "      <td>0</td>\n",
       "    </tr>\n",
       "    <tr>\n",
       "      <th>1</th>\n",
       "      <td>29</td>\n",
       "      <td>61</td>\n",
       "      <td>13</td>\n",
       "      <td>1.3</td>\n",
       "      <td>64.4</td>\n",
       "      <td>4.1</td>\n",
       "      <td>7.6</td>\n",
       "      <td>1.0</td>\n",
       "      <td>3.9</td>\n",
       "      <td>0.4</td>\n",
       "      <td>not fire</td>\n",
       "      <td>0</td>\n",
       "    </tr>\n",
       "    <tr>\n",
       "      <th>2</th>\n",
       "      <td>26</td>\n",
       "      <td>82</td>\n",
       "      <td>22</td>\n",
       "      <td>13.1</td>\n",
       "      <td>47.1</td>\n",
       "      <td>2.5</td>\n",
       "      <td>7.1</td>\n",
       "      <td>0.3</td>\n",
       "      <td>2.7</td>\n",
       "      <td>0.1</td>\n",
       "      <td>not fire</td>\n",
       "      <td>0</td>\n",
       "    </tr>\n",
       "    <tr>\n",
       "      <th>3</th>\n",
       "      <td>25</td>\n",
       "      <td>89</td>\n",
       "      <td>13</td>\n",
       "      <td>2.5</td>\n",
       "      <td>28.6</td>\n",
       "      <td>1.3</td>\n",
       "      <td>6.9</td>\n",
       "      <td>0.0</td>\n",
       "      <td>1.7</td>\n",
       "      <td>0.0</td>\n",
       "      <td>not fire</td>\n",
       "      <td>0</td>\n",
       "    </tr>\n",
       "    <tr>\n",
       "      <th>4</th>\n",
       "      <td>27</td>\n",
       "      <td>77</td>\n",
       "      <td>16</td>\n",
       "      <td>0.0</td>\n",
       "      <td>64.8</td>\n",
       "      <td>3.0</td>\n",
       "      <td>14.2</td>\n",
       "      <td>1.2</td>\n",
       "      <td>3.9</td>\n",
       "      <td>0.5</td>\n",
       "      <td>not fire</td>\n",
       "      <td>0</td>\n",
       "    </tr>\n",
       "  </tbody>\n",
       "</table>\n",
       "</div>"
      ],
      "text/plain": [
       "   Temperature  RH  Ws  Rain  FFMC  DMC    DC  ISI  BUI  FWI      Classes  \\\n",
       "0           29  57  18   0.0  65.7  3.4   7.6  1.3  3.4  0.5  not fire      \n",
       "1           29  61  13   1.3  64.4  4.1   7.6  1.0  3.9  0.4  not fire      \n",
       "2           26  82  22  13.1  47.1  2.5   7.1  0.3  2.7  0.1  not fire      \n",
       "3           25  89  13   2.5  28.6  1.3   6.9  0.0  1.7  0.0  not fire      \n",
       "4           27  77  16   0.0  64.8  3.0  14.2  1.2  3.9  0.5  not fire      \n",
       "\n",
       "   Region  \n",
       "0       0  \n",
       "1       0  \n",
       "2       0  \n",
       "3       0  \n",
       "4       0  "
      ]
     },
     "execution_count": 4,
     "metadata": {},
     "output_type": "execute_result"
    }
   ],
   "source": [
    "df.head()\n"
   ]
  },
  {
   "cell_type": "code",
   "execution_count": 5,
   "metadata": {},
   "outputs": [],
   "source": [
    "# Encoding\n",
    "df['Classes'] = np.where(df['Classes'].str.contains(\"not fire\"), 0, 1)\n"
   ]
  },
  {
   "cell_type": "code",
   "execution_count": 6,
   "metadata": {},
   "outputs": [],
   "source": [
    "# Independent And dependent features\n",
    "X = df.drop('FWI', axis=1)\n",
    "y = df['FWI']\n"
   ]
  },
  {
   "cell_type": "code",
   "execution_count": 7,
   "metadata": {},
   "outputs": [
    {
     "data": {
      "text/html": [
       "<div>\n",
       "<style scoped>\n",
       "    .dataframe tbody tr th:only-of-type {\n",
       "        vertical-align: middle;\n",
       "    }\n",
       "\n",
       "    .dataframe tbody tr th {\n",
       "        vertical-align: top;\n",
       "    }\n",
       "\n",
       "    .dataframe thead th {\n",
       "        text-align: right;\n",
       "    }\n",
       "</style>\n",
       "<table border=\"1\" class=\"dataframe\">\n",
       "  <thead>\n",
       "    <tr style=\"text-align: right;\">\n",
       "      <th></th>\n",
       "      <th>Temperature</th>\n",
       "      <th>RH</th>\n",
       "      <th>Ws</th>\n",
       "      <th>Rain</th>\n",
       "      <th>FFMC</th>\n",
       "      <th>DMC</th>\n",
       "      <th>DC</th>\n",
       "      <th>ISI</th>\n",
       "      <th>BUI</th>\n",
       "      <th>Classes</th>\n",
       "      <th>Region</th>\n",
       "    </tr>\n",
       "  </thead>\n",
       "  <tbody>\n",
       "    <tr>\n",
       "      <th>0</th>\n",
       "      <td>29</td>\n",
       "      <td>57</td>\n",
       "      <td>18</td>\n",
       "      <td>0.0</td>\n",
       "      <td>65.7</td>\n",
       "      <td>3.4</td>\n",
       "      <td>7.6</td>\n",
       "      <td>1.3</td>\n",
       "      <td>3.4</td>\n",
       "      <td>0</td>\n",
       "      <td>0</td>\n",
       "    </tr>\n",
       "    <tr>\n",
       "      <th>1</th>\n",
       "      <td>29</td>\n",
       "      <td>61</td>\n",
       "      <td>13</td>\n",
       "      <td>1.3</td>\n",
       "      <td>64.4</td>\n",
       "      <td>4.1</td>\n",
       "      <td>7.6</td>\n",
       "      <td>1.0</td>\n",
       "      <td>3.9</td>\n",
       "      <td>0</td>\n",
       "      <td>0</td>\n",
       "    </tr>\n",
       "    <tr>\n",
       "      <th>2</th>\n",
       "      <td>26</td>\n",
       "      <td>82</td>\n",
       "      <td>22</td>\n",
       "      <td>13.1</td>\n",
       "      <td>47.1</td>\n",
       "      <td>2.5</td>\n",
       "      <td>7.1</td>\n",
       "      <td>0.3</td>\n",
       "      <td>2.7</td>\n",
       "      <td>0</td>\n",
       "      <td>0</td>\n",
       "    </tr>\n",
       "    <tr>\n",
       "      <th>3</th>\n",
       "      <td>25</td>\n",
       "      <td>89</td>\n",
       "      <td>13</td>\n",
       "      <td>2.5</td>\n",
       "      <td>28.6</td>\n",
       "      <td>1.3</td>\n",
       "      <td>6.9</td>\n",
       "      <td>0.0</td>\n",
       "      <td>1.7</td>\n",
       "      <td>0</td>\n",
       "      <td>0</td>\n",
       "    </tr>\n",
       "    <tr>\n",
       "      <th>4</th>\n",
       "      <td>27</td>\n",
       "      <td>77</td>\n",
       "      <td>16</td>\n",
       "      <td>0.0</td>\n",
       "      <td>64.8</td>\n",
       "      <td>3.0</td>\n",
       "      <td>14.2</td>\n",
       "      <td>1.2</td>\n",
       "      <td>3.9</td>\n",
       "      <td>0</td>\n",
       "      <td>0</td>\n",
       "    </tr>\n",
       "    <tr>\n",
       "      <th>...</th>\n",
       "      <td>...</td>\n",
       "      <td>...</td>\n",
       "      <td>...</td>\n",
       "      <td>...</td>\n",
       "      <td>...</td>\n",
       "      <td>...</td>\n",
       "      <td>...</td>\n",
       "      <td>...</td>\n",
       "      <td>...</td>\n",
       "      <td>...</td>\n",
       "      <td>...</td>\n",
       "    </tr>\n",
       "    <tr>\n",
       "      <th>238</th>\n",
       "      <td>30</td>\n",
       "      <td>65</td>\n",
       "      <td>14</td>\n",
       "      <td>0.0</td>\n",
       "      <td>85.4</td>\n",
       "      <td>16.0</td>\n",
       "      <td>44.5</td>\n",
       "      <td>4.5</td>\n",
       "      <td>16.9</td>\n",
       "      <td>1</td>\n",
       "      <td>1</td>\n",
       "    </tr>\n",
       "    <tr>\n",
       "      <th>239</th>\n",
       "      <td>28</td>\n",
       "      <td>87</td>\n",
       "      <td>15</td>\n",
       "      <td>4.4</td>\n",
       "      <td>41.1</td>\n",
       "      <td>6.5</td>\n",
       "      <td>8.0</td>\n",
       "      <td>0.1</td>\n",
       "      <td>6.2</td>\n",
       "      <td>0</td>\n",
       "      <td>1</td>\n",
       "    </tr>\n",
       "    <tr>\n",
       "      <th>240</th>\n",
       "      <td>27</td>\n",
       "      <td>87</td>\n",
       "      <td>29</td>\n",
       "      <td>0.5</td>\n",
       "      <td>45.9</td>\n",
       "      <td>3.5</td>\n",
       "      <td>7.9</td>\n",
       "      <td>0.4</td>\n",
       "      <td>3.4</td>\n",
       "      <td>0</td>\n",
       "      <td>1</td>\n",
       "    </tr>\n",
       "    <tr>\n",
       "      <th>241</th>\n",
       "      <td>24</td>\n",
       "      <td>54</td>\n",
       "      <td>18</td>\n",
       "      <td>0.1</td>\n",
       "      <td>79.7</td>\n",
       "      <td>4.3</td>\n",
       "      <td>15.2</td>\n",
       "      <td>1.7</td>\n",
       "      <td>5.1</td>\n",
       "      <td>0</td>\n",
       "      <td>1</td>\n",
       "    </tr>\n",
       "    <tr>\n",
       "      <th>242</th>\n",
       "      <td>24</td>\n",
       "      <td>64</td>\n",
       "      <td>15</td>\n",
       "      <td>0.2</td>\n",
       "      <td>67.3</td>\n",
       "      <td>3.8</td>\n",
       "      <td>16.5</td>\n",
       "      <td>1.2</td>\n",
       "      <td>4.8</td>\n",
       "      <td>0</td>\n",
       "      <td>1</td>\n",
       "    </tr>\n",
       "  </tbody>\n",
       "</table>\n",
       "<p>243 rows × 11 columns</p>\n",
       "</div>"
      ],
      "text/plain": [
       "     Temperature  RH  Ws  Rain  FFMC   DMC    DC  ISI   BUI  Classes  Region\n",
       "0             29  57  18   0.0  65.7   3.4   7.6  1.3   3.4        0       0\n",
       "1             29  61  13   1.3  64.4   4.1   7.6  1.0   3.9        0       0\n",
       "2             26  82  22  13.1  47.1   2.5   7.1  0.3   2.7        0       0\n",
       "3             25  89  13   2.5  28.6   1.3   6.9  0.0   1.7        0       0\n",
       "4             27  77  16   0.0  64.8   3.0  14.2  1.2   3.9        0       0\n",
       "..           ...  ..  ..   ...   ...   ...   ...  ...   ...      ...     ...\n",
       "238           30  65  14   0.0  85.4  16.0  44.5  4.5  16.9        1       1\n",
       "239           28  87  15   4.4  41.1   6.5   8.0  0.1   6.2        0       1\n",
       "240           27  87  29   0.5  45.9   3.5   7.9  0.4   3.4        0       1\n",
       "241           24  54  18   0.1  79.7   4.3  15.2  1.7   5.1        0       1\n",
       "242           24  64  15   0.2  67.3   3.8  16.5  1.2   4.8        0       1\n",
       "\n",
       "[243 rows x 11 columns]"
      ]
     },
     "execution_count": 7,
     "metadata": {},
     "output_type": "execute_result"
    }
   ],
   "source": [
    "X\n"
   ]
  },
  {
   "cell_type": "code",
   "execution_count": 8,
   "metadata": {},
   "outputs": [
    {
     "data": {
      "text/plain": [
       "0      0.5\n",
       "1      0.4\n",
       "2      0.1\n",
       "3      0.0\n",
       "4      0.5\n",
       "      ... \n",
       "238    6.5\n",
       "239    0.0\n",
       "240    0.2\n",
       "241    0.7\n",
       "242    0.5\n",
       "Name: FWI, Length: 243, dtype: float64"
      ]
     },
     "execution_count": 8,
     "metadata": {},
     "output_type": "execute_result"
    }
   ],
   "source": [
    "y\n"
   ]
  },
  {
   "cell_type": "code",
   "execution_count": 9,
   "metadata": {},
   "outputs": [],
   "source": [
    "# train test spliting\n",
    "X_train, X_test, y_train, y_test = train_test_split(\n",
    "    X, y, test_size=0.25, random_state=42)\n"
   ]
  },
  {
   "cell_type": "code",
   "execution_count": 10,
   "metadata": {},
   "outputs": [
    {
     "data": {
      "text/plain": [
       "((61, 11), (61,))"
      ]
     },
     "execution_count": 10,
     "metadata": {},
     "output_type": "execute_result"
    }
   ],
   "source": [
    "X_test.shape, y_test.shape\n"
   ]
  },
  {
   "cell_type": "code",
   "execution_count": 11,
   "metadata": {},
   "outputs": [
    {
     "data": {
      "text/plain": [
       "((182, 11), (182,))"
      ]
     },
     "execution_count": 11,
     "metadata": {},
     "output_type": "execute_result"
    }
   ],
   "source": [
    "X_train.shape, y_train.shape\n"
   ]
  },
  {
   "cell_type": "code",
   "execution_count": 12,
   "metadata": {},
   "outputs": [
    {
     "data": {
      "text/html": [
       "<div>\n",
       "<style scoped>\n",
       "    .dataframe tbody tr th:only-of-type {\n",
       "        vertical-align: middle;\n",
       "    }\n",
       "\n",
       "    .dataframe tbody tr th {\n",
       "        vertical-align: top;\n",
       "    }\n",
       "\n",
       "    .dataframe thead th {\n",
       "        text-align: right;\n",
       "    }\n",
       "</style>\n",
       "<table border=\"1\" class=\"dataframe\">\n",
       "  <thead>\n",
       "    <tr style=\"text-align: right;\">\n",
       "      <th></th>\n",
       "      <th>Temperature</th>\n",
       "      <th>RH</th>\n",
       "      <th>Ws</th>\n",
       "      <th>Rain</th>\n",
       "      <th>FFMC</th>\n",
       "      <th>DMC</th>\n",
       "      <th>DC</th>\n",
       "      <th>ISI</th>\n",
       "      <th>BUI</th>\n",
       "      <th>Classes</th>\n",
       "      <th>Region</th>\n",
       "    </tr>\n",
       "  </thead>\n",
       "  <tbody>\n",
       "    <tr>\n",
       "      <th>Temperature</th>\n",
       "      <td>1.000000</td>\n",
       "      <td>-0.656095</td>\n",
       "      <td>-0.305977</td>\n",
       "      <td>-0.317512</td>\n",
       "      <td>0.694768</td>\n",
       "      <td>0.498173</td>\n",
       "      <td>0.390684</td>\n",
       "      <td>0.629848</td>\n",
       "      <td>0.473609</td>\n",
       "      <td>0.542141</td>\n",
       "      <td>0.254549</td>\n",
       "    </tr>\n",
       "    <tr>\n",
       "      <th>RH</th>\n",
       "      <td>-0.656095</td>\n",
       "      <td>1.000000</td>\n",
       "      <td>0.225736</td>\n",
       "      <td>0.241656</td>\n",
       "      <td>-0.653023</td>\n",
       "      <td>-0.414601</td>\n",
       "      <td>-0.236078</td>\n",
       "      <td>-0.717804</td>\n",
       "      <td>-0.362317</td>\n",
       "      <td>-0.456876</td>\n",
       "      <td>-0.394665</td>\n",
       "    </tr>\n",
       "    <tr>\n",
       "      <th>Ws</th>\n",
       "      <td>-0.305977</td>\n",
       "      <td>0.225736</td>\n",
       "      <td>1.000000</td>\n",
       "      <td>0.251932</td>\n",
       "      <td>-0.190076</td>\n",
       "      <td>0.000379</td>\n",
       "      <td>0.096576</td>\n",
       "      <td>-0.023558</td>\n",
       "      <td>0.035633</td>\n",
       "      <td>-0.082570</td>\n",
       "      <td>-0.199969</td>\n",
       "    </tr>\n",
       "    <tr>\n",
       "      <th>Rain</th>\n",
       "      <td>-0.317512</td>\n",
       "      <td>0.241656</td>\n",
       "      <td>0.251932</td>\n",
       "      <td>1.000000</td>\n",
       "      <td>-0.545491</td>\n",
       "      <td>-0.289754</td>\n",
       "      <td>-0.302341</td>\n",
       "      <td>-0.345707</td>\n",
       "      <td>-0.300964</td>\n",
       "      <td>-0.369357</td>\n",
       "      <td>-0.059022</td>\n",
       "    </tr>\n",
       "    <tr>\n",
       "      <th>FFMC</th>\n",
       "      <td>0.694768</td>\n",
       "      <td>-0.653023</td>\n",
       "      <td>-0.190076</td>\n",
       "      <td>-0.545491</td>\n",
       "      <td>1.000000</td>\n",
       "      <td>0.620807</td>\n",
       "      <td>0.524101</td>\n",
       "      <td>0.750799</td>\n",
       "      <td>0.607210</td>\n",
       "      <td>0.781259</td>\n",
       "      <td>0.249514</td>\n",
       "    </tr>\n",
       "    <tr>\n",
       "      <th>DMC</th>\n",
       "      <td>0.498173</td>\n",
       "      <td>-0.414601</td>\n",
       "      <td>0.000379</td>\n",
       "      <td>-0.289754</td>\n",
       "      <td>0.620807</td>\n",
       "      <td>1.000000</td>\n",
       "      <td>0.868647</td>\n",
       "      <td>0.685656</td>\n",
       "      <td>0.983175</td>\n",
       "      <td>0.617273</td>\n",
       "      <td>0.212582</td>\n",
       "    </tr>\n",
       "    <tr>\n",
       "      <th>DC</th>\n",
       "      <td>0.390684</td>\n",
       "      <td>-0.236078</td>\n",
       "      <td>0.096576</td>\n",
       "      <td>-0.302341</td>\n",
       "      <td>0.524101</td>\n",
       "      <td>0.868647</td>\n",
       "      <td>1.000000</td>\n",
       "      <td>0.513701</td>\n",
       "      <td>0.942414</td>\n",
       "      <td>0.543581</td>\n",
       "      <td>-0.060838</td>\n",
       "    </tr>\n",
       "    <tr>\n",
       "      <th>ISI</th>\n",
       "      <td>0.629848</td>\n",
       "      <td>-0.717804</td>\n",
       "      <td>-0.023558</td>\n",
       "      <td>-0.345707</td>\n",
       "      <td>0.750799</td>\n",
       "      <td>0.685656</td>\n",
       "      <td>0.513701</td>\n",
       "      <td>1.000000</td>\n",
       "      <td>0.643818</td>\n",
       "      <td>0.742977</td>\n",
       "      <td>0.296441</td>\n",
       "    </tr>\n",
       "    <tr>\n",
       "      <th>BUI</th>\n",
       "      <td>0.473609</td>\n",
       "      <td>-0.362317</td>\n",
       "      <td>0.035633</td>\n",
       "      <td>-0.300964</td>\n",
       "      <td>0.607210</td>\n",
       "      <td>0.983175</td>\n",
       "      <td>0.942414</td>\n",
       "      <td>0.643818</td>\n",
       "      <td>1.000000</td>\n",
       "      <td>0.612239</td>\n",
       "      <td>0.114897</td>\n",
       "    </tr>\n",
       "    <tr>\n",
       "      <th>Classes</th>\n",
       "      <td>0.542141</td>\n",
       "      <td>-0.456876</td>\n",
       "      <td>-0.082570</td>\n",
       "      <td>-0.369357</td>\n",
       "      <td>0.781259</td>\n",
       "      <td>0.617273</td>\n",
       "      <td>0.543581</td>\n",
       "      <td>0.742977</td>\n",
       "      <td>0.612239</td>\n",
       "      <td>1.000000</td>\n",
       "      <td>0.188837</td>\n",
       "    </tr>\n",
       "    <tr>\n",
       "      <th>Region</th>\n",
       "      <td>0.254549</td>\n",
       "      <td>-0.394665</td>\n",
       "      <td>-0.199969</td>\n",
       "      <td>-0.059022</td>\n",
       "      <td>0.249514</td>\n",
       "      <td>0.212582</td>\n",
       "      <td>-0.060838</td>\n",
       "      <td>0.296441</td>\n",
       "      <td>0.114897</td>\n",
       "      <td>0.188837</td>\n",
       "      <td>1.000000</td>\n",
       "    </tr>\n",
       "  </tbody>\n",
       "</table>\n",
       "</div>"
      ],
      "text/plain": [
       "             Temperature        RH        Ws      Rain      FFMC       DMC  \\\n",
       "Temperature     1.000000 -0.656095 -0.305977 -0.317512  0.694768  0.498173   \n",
       "RH             -0.656095  1.000000  0.225736  0.241656 -0.653023 -0.414601   \n",
       "Ws             -0.305977  0.225736  1.000000  0.251932 -0.190076  0.000379   \n",
       "Rain           -0.317512  0.241656  0.251932  1.000000 -0.545491 -0.289754   \n",
       "FFMC            0.694768 -0.653023 -0.190076 -0.545491  1.000000  0.620807   \n",
       "DMC             0.498173 -0.414601  0.000379 -0.289754  0.620807  1.000000   \n",
       "DC              0.390684 -0.236078  0.096576 -0.302341  0.524101  0.868647   \n",
       "ISI             0.629848 -0.717804 -0.023558 -0.345707  0.750799  0.685656   \n",
       "BUI             0.473609 -0.362317  0.035633 -0.300964  0.607210  0.983175   \n",
       "Classes         0.542141 -0.456876 -0.082570 -0.369357  0.781259  0.617273   \n",
       "Region          0.254549 -0.394665 -0.199969 -0.059022  0.249514  0.212582   \n",
       "\n",
       "                   DC       ISI       BUI   Classes    Region  \n",
       "Temperature  0.390684  0.629848  0.473609  0.542141  0.254549  \n",
       "RH          -0.236078 -0.717804 -0.362317 -0.456876 -0.394665  \n",
       "Ws           0.096576 -0.023558  0.035633 -0.082570 -0.199969  \n",
       "Rain        -0.302341 -0.345707 -0.300964 -0.369357 -0.059022  \n",
       "FFMC         0.524101  0.750799  0.607210  0.781259  0.249514  \n",
       "DMC          0.868647  0.685656  0.983175  0.617273  0.212582  \n",
       "DC           1.000000  0.513701  0.942414  0.543581 -0.060838  \n",
       "ISI          0.513701  1.000000  0.643818  0.742977  0.296441  \n",
       "BUI          0.942414  0.643818  1.000000  0.612239  0.114897  \n",
       "Classes      0.543581  0.742977  0.612239  1.000000  0.188837  \n",
       "Region      -0.060838  0.296441  0.114897  0.188837  1.000000  "
      ]
     },
     "execution_count": 12,
     "metadata": {},
     "output_type": "execute_result"
    }
   ],
   "source": [
    "X_train.corr()\n"
   ]
  },
  {
   "cell_type": "code",
   "execution_count": 13,
   "metadata": {},
   "outputs": [
    {
     "data": {
      "image/png": "[encoded data removed]",
      "text/plain": [
       "<Figure size 864x576 with 2 Axes>"
      ]
     },
     "metadata": {
      "needs_background": "light"
     },
     "output_type": "display_data"
    }
   ],
   "source": [
    "# plot heatmap\n",
    "plt.figure(figsize=(12, 8))\n",
    "sns.heatmap(X_train.corr(), annot=True)\n",
    "plt.show()\n"
   ]
  },
  {
   "cell_type": "code",
   "execution_count": 14,
   "metadata": {},
   "outputs": [],
   "source": [
    "# check multicollenearity\n",
    "\n",
    "def correlation(dataset, threshold):\n",
    "    col_corr = set()\n",
    "    corr_matrix = dataset.corr()\n",
    "    for i in range(len(corr_matrix.columns)):\n",
    "        for j in range(i):\n",
    "            if abs(corr_matrix.iloc[i, j]) > threshold:\n",
    "                colname = corr_matrix.columns[i]\n",
    "                col_corr.add(colname)\n",
    "    return col_corr\n"
   ]
  },
  {
   "cell_type": "code",
   "execution_count": 15,
   "metadata": {},
   "outputs": [],
   "source": [
    "# threshhold --domain expertise\n",
    "corr_features = correlation(X_train, 0.85)\n"
   ]
  },
  {
   "cell_type": "code",
   "execution_count": 16,
   "metadata": {},
   "outputs": [
    {
     "data": {
      "text/plain": [
       "{'BUI', 'DC'}"
      ]
     },
     "execution_count": 16,
     "metadata": {},
     "output_type": "execute_result"
    }
   ],
   "source": [
    "corr_features\n"
   ]
  },
  {
   "cell_type": "code",
   "execution_count": 17,
   "metadata": {},
   "outputs": [
    {
     "data": {
      "text/plain": [
       "((182, 9), (61, 9))"
      ]
     },
     "execution_count": 17,
     "metadata": {},
     "output_type": "execute_result"
    }
   ],
   "source": [
    "X_train.drop(corr_features, axis=1, inplace=True)\n",
    "X_test.drop(corr_features, axis=1, inplace=True)\n",
    "X_train.shape, X_test.shape\n"
   ]
  },
  {
   "cell_type": "markdown",
   "metadata": {},
   "source": [
    "**Feature Scalling or Standardization**"
   ]
  },
  {
   "cell_type": "code",
   "execution_count": 18,
   "metadata": {},
   "outputs": [],
   "source": [
    "from sklearn.preprocessing import StandardScaler\n",
    "scaler = StandardScaler()\n",
    "X_train_scaled = scaler.fit_transform(X_train)\n",
    "X_test_scaled = scaler.transform(X_test)\n"
   ]
  },
  {
   "cell_type": "code",
   "execution_count": 19,
   "metadata": {},
   "outputs": [
    {
     "data": {
      "text/plain": [
       "array([[-0.84284248,  0.78307967,  1.29972026, ..., -0.62963326,\n",
       "        -1.10431526, -0.98907071],\n",
       "       [-0.30175842,  0.64950844, -0.59874754, ..., -0.93058524,\n",
       "        -1.10431526,  1.01105006],\n",
       "       [ 2.13311985, -2.08870172, -0.21905398, ...,  2.7271388 ,\n",
       "         0.90553851,  1.01105006],\n",
       "       ...,\n",
       "       [-1.9250106 ,  0.9166509 ,  0.54033314, ..., -1.06948615,\n",
       "        -1.10431526, -0.98907071],\n",
       "       [ 0.50986767, -0.21870454,  0.16063958, ...,  0.5973248 ,\n",
       "         0.90553851,  1.01105006],\n",
       "       [-0.57230045,  0.98343651,  2.05910739, ..., -0.86113478,\n",
       "        -1.10431526, -0.98907071]])"
      ]
     },
     "execution_count": 19,
     "metadata": {},
     "output_type": "execute_result"
    }
   ],
   "source": [
    "X_train_scaled\n"
   ]
  },
  {
   "cell_type": "markdown",
   "metadata": {},
   "source": [
    "**Box plots to understand effect of standard scaler**"
   ]
  },
  {
   "cell_type": "code",
   "execution_count": 20,
   "metadata": {},
   "outputs": [
    {
     "data": {
      "image/png": "[encoded data removed]",
      "text/plain": [
       "<Figure size 1080x360 with 2 Axes>"
      ]
     },
     "metadata": {
      "needs_background": "light"
     },
     "output_type": "display_data"
    }
   ],
   "source": [
    "plt.figure(figsize=(15, 5))\n",
    "plt.subplot(1, 2, 1)\n",
    "sns.boxplot(data=X_train)\n",
    "plt.title('X_train before scaling')\n",
    "plt.subplot(1, 2, 2)\n",
    "sns.boxplot(data=X_test_scaled)\n",
    "plt.title('X_train after scaling')\n",
    "plt.show()\n"
   ]
  },
  {
   "cell_type": "markdown",
   "metadata": {},
   "source": [
    "**Linear Regression Model**"
   ]
  },
  {
   "cell_type": "code",
   "execution_count": 21,
   "metadata": {},
   "outputs": [
    {
     "name": "stdout",
     "output_type": "stream",
     "text": [
      "MSE 0.6742766873791592\n",
      "RMSE 0.8211435242265259\n",
      "Mean absolute error 0.5468236465249984\n",
      "R2 store 0.9847657384266951\n"
     ]
    }
   ],
   "source": [
    "from sklearn.linear_model import LinearRegression\n",
    "from sklearn.metrics import mean_absolute_error\n",
    "from sklearn.metrics import mean_squared_error\n",
    "from sklearn.metrics import r2_score\n",
    "linreg = LinearRegression()\n",
    "linreg.fit(X_train_scaled, y_train)\n",
    "y_pred = linreg.predict(X_test_scaled)\n",
    "mae = mean_absolute_error(y_test, y_pred)\n",
    "mse = mean_squared_error(y_test, y_pred)\n",
    "score = r2_score(y_test, y_pred)\n",
    "rmsme = np.sqrt(mse)\n",
    "print('MSE', mse)\n",
    "print('RMSE', rmsme)\n",
    "print('Mean absolute error', mae)\n",
    "print('R2 store', score)\n"
   ]
  },
  {
   "cell_type": "code",
   "execution_count": 22,
   "metadata": {},
   "outputs": [
    {
     "data": {
      "text/plain": [
       "7.156043956043957"
      ]
     },
     "execution_count": 22,
     "metadata": {},
     "output_type": "execute_result"
    }
   ],
   "source": [
    "linreg.intercept_\n"
   ]
  },
  {
   "cell_type": "code",
   "execution_count": 23,
   "metadata": {},
   "outputs": [
    {
     "data": {
      "text/plain": [
       "array([-0.03634495, -0.17441065,  0.00703214, -0.04108155, -0.82319823,\n",
       "        3.6982583 ,  4.84057298,  0.40422124, -0.39259928])"
      ]
     },
     "execution_count": 23,
     "metadata": {},
     "output_type": "execute_result"
    }
   ],
   "source": [
    "linreg.coef_\n"
   ]
  },
  {
   "cell_type": "code",
   "execution_count": 24,
   "metadata": {},
   "outputs": [
    {
     "data": {
      "text/plain": [
       "0.9820773393255237"
      ]
     },
     "execution_count": 24,
     "metadata": {},
     "output_type": "execute_result"
    }
   ],
   "source": [
    "# Adjusted R2 square\n",
    "1 - (1-score) * (len(y_test)-1) / (len(y_test) - X_test.shape[1]-1)\n"
   ]
  },
  {
   "cell_type": "markdown",
   "metadata": {},
   "source": [
    "### **Lasso Regression**"
   ]
  },
  {
   "cell_type": "code",
   "execution_count": 25,
   "metadata": {},
   "outputs": [],
   "source": [
    "from sklearn.linear_model import Lasso\n",
    "from sklearn.metrics import mean_absolute_error\n",
    "from sklearn.metrics import r2_score\n"
   ]
  },
  {
   "cell_type": "code",
   "execution_count": 26,
   "metadata": {},
   "outputs": [
    {
     "name": "stdout",
     "output_type": "stream",
     "text": [
      "MAE 1.1331759949144085\n",
      "MSE 2.248345891897475\n",
      "SCORE 0.9492020263112388\n",
      "RMSE 1.4994485292591657\n"
     ]
    }
   ],
   "source": [
    "lasso = Lasso()\n",
    "lasso.fit(X_train_scaled, y_train)\n",
    "y_test_pred = lasso.predict(X_test_scaled)\n",
    "mae = mean_absolute_error(y_test, y_test_pred)\n",
    "mse = mean_squared_error(y_test, y_test_pred)\n",
    "score = r2_score(y_test, y_test_pred)\n",
    "rmse = np.sqrt(mse)\n",
    "print('MAE', mae)\n",
    "print('MSE', mse)\n",
    "print('SCORE', score)\n",
    "print('RMSE', rmse)\n"
   ]
  },
  {
   "cell_type": "code",
   "execution_count": 27,
   "metadata": {},
   "outputs": [
    {
     "data": {
      "text/plain": [
       "0.9402376780132222"
      ]
     },
     "execution_count": 27,
     "metadata": {},
     "output_type": "execute_result"
    }
   ],
   "source": [
    "1 - (1-score) * (len(y_test)-1) / (len(y_test) - X_test.shape[1]-1)\n"
   ]
  },
  {
   "cell_type": "markdown",
   "metadata": {},
   "source": [
    "### **Ridge Regression model**"
   ]
  },
  {
   "cell_type": "code",
   "execution_count": 28,
   "metadata": {},
   "outputs": [
    {
     "name": "stdout",
     "output_type": "stream",
     "text": [
      "MAE 0.5642305340105719\n",
      "MSE 0.6949198918152084\n",
      "SCORE 0.9842993364555513\n",
      "RMSE 0.8336185529456553\n"
     ]
    }
   ],
   "source": [
    "from sklearn.linear_model import Ridge\n",
    "ridge = Ridge()\n",
    "ridge.fit(X_train_scaled, y_train)\n",
    "y_test_pred = ridge.predict(X_test_scaled)\n",
    "mae = mean_absolute_error(y_test, y_test_pred)\n",
    "mse = mean_squared_error(y_test, y_test_pred)\n",
    "score = r2_score(y_test, y_test_pred)\n",
    "rmse = np.sqrt(mse)\n",
    "print('MAE', mae)\n",
    "print('MSE', mse)\n",
    "print('SCORE', score)\n",
    "print('RMSE', rmse)\n"
   ]
  },
  {
   "cell_type": "code",
   "execution_count": 29,
   "metadata": {},
   "outputs": [
    {
     "data": {
      "text/plain": [
       "0.9815286311241781"
      ]
     },
     "execution_count": 29,
     "metadata": {},
     "output_type": "execute_result"
    }
   ],
   "source": [
    "1 - (1-score) * (len(y_test)-1) / (len(y_test) - X_test.shape[1]-1)\n"
   ]
  },
  {
   "cell_type": "markdown",
   "metadata": {},
   "source": [
    "### **Elastic Regression**"
   ]
  },
  {
   "cell_type": "code",
   "execution_count": 30,
   "metadata": {},
   "outputs": [
    {
     "name": "stdout",
     "output_type": "stream",
     "text": [
      "MAE 1.8822353634896\n",
      "MSE 5.517251101025224\n",
      "SCORE 0.8753460589519703\n",
      "RMSE 2.3488829474933874\n"
     ]
    }
   ],
   "source": [
    "from sklearn.linear_model import ElasticNet\n",
    "elastic = ElasticNet()\n",
    "elastic.fit(X_train_scaled, y_train)\n",
    "y_test_pred = elastic.predict(X_test_scaled)\n",
    "mae = mean_absolute_error(y_test, y_test_pred)\n",
    "mse = mean_squared_error(y_test, y_test_pred)\n",
    "score = r2_score(y_test, y_test_pred)\n",
    "rmse = np.sqrt(mse)\n",
    "print('MAE', mae)\n",
    "print('MSE', mse)\n",
    "print('SCORE', score)\n",
    "print('RMSE', rmse)\n"
   ]
  },
  {
   "cell_type": "code",
   "execution_count": 31,
   "metadata": {},
   "outputs": [
    {
     "data": {
      "text/plain": [
       "0.8533483046493768"
      ]
     },
     "execution_count": 31,
     "metadata": {},
     "output_type": "execute_result"
    }
   ],
   "source": [
    "1 - (1-score) * (len(y_test)-1) / (len(y_test) - X_test.shape[1]-1)\n"
   ]
  },
  {
   "cell_type": "code",
   "execution_count": 32,
   "metadata": {},
   "outputs": [],
   "source": [
    "import pickle\n",
    "pickle.dump(scaler, open('scaler.pkl', 'wb'))\n",
    "pickle.dump(ridge, open('ridge.pkl', 'wb'))\n"
   ]
  }
 ],
 "metadata": {
  "kernelspec": {
   "display_name": "base",
   "language": "python",
   "name": "python3"
  },
  "language_info": {
   "codemirror_mode": {
    "name": "ipython",
    "version": 3
   },
   "file_extension": ".py",
   "mimetype": "text/x-python",
   "name": "python",
   "nbconvert_exporter": "python",
   "pygments_lexer": "ipython3",
   "version": "3.9.12"
  },
  "orig_nbformat": 4
 },
 "nbformat": 4,
 "nbformat_minor": 2
}
